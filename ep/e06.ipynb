{
 "cells": [
  {
   "cell_type": "markdown",
   "id": "fd034c81",
   "metadata": {},
   "source": [
    "### E06 - Controle de Processos"
   ]
  },
  {
   "cell_type": "code",
   "execution_count": 1,
   "id": "8bdc596f",
   "metadata": {
    "vscode": {
     "languageId": "r"
    }
   },
   "outputs": [
    {
     "name": "stderr",
     "output_type": "stream",
     "text": [
      "Warning message:\n",
      "\"package 'googlesheets4' was built under R version 4.3.3\"\n",
      "Warning message:\n",
      "\"package 'qcc' was built under R version 4.3.3\"\n",
      "Package 'qcc' version 2.7\n",
      "\n",
      "Type 'citation(\"qcc\")' for citing this R package in publications.\n",
      "\n",
      "\u001b[32m✔\u001b[39m Reading from \u001b[36mControle Estatístico de Processos - Variáveis\u001b[39m.\n",
      "\n",
      "\u001b[32m✔\u001b[39m Range '\u001b[33m'vazao'\u001b[39m'.\n",
      "\n"
     ]
    },
    {
     "name": "stdout",
     "output_type": "stream",
     "text": [
      "Proporção média de falhas (p̄): 0.2 \n",
      "LIC: 0  | LC: 0.2  | LSC: 0.7367 \n",
      "NMFA (falsos alarmes): 148.81 \n",
      "NMA (tempo até alarme para p=0.2): 148.81 \n",
      "\n"
     ]
    },
    {
     "data": {
      "image/png": "[encoded data removed]",
      "text/plain": [
       "plot without title"
      ]
     },
     "metadata": {
      "image/png": {
       "height": 420,
       "width": 420
      }
     },
     "output_type": "display_data"
    },
    {
     "name": "stdout",
     "output_type": "stream",
     "text": [
      "\n",
      "Call:\n",
      "qcc(data = falhas_por_grupo, type = \"p\", sizes = rep(tamanho_grupo,     num_grupos), title = \"Gráfico de Controle - Proporção (p)\")\n",
      "\n",
      "p chart for falhas_por_grupo \n",
      "\n",
      "Summary of group statistics:\n",
      "   Min. 1st Qu.  Median    Mean 3rd Qu.    Max. \n",
      "    0.2     0.2     0.2     0.2     0.2     0.2 \n",
      "\n",
      "Group sample size:  5\n",
      "Number of groups:  1\n",
      "Center of group statistics:  0.2\n",
      "Standard deviation:  0.4 \n",
      "\n",
      "Control limits:\n",
      " LCL       UCL\n",
      "   0 0.7366563\n",
      "✅ Processo está sob controle estatístico.\n",
      "Nenhuma causa especial evidente.\n",
      "\n",
      "📊 Comparação:\n",
      "→ Gráficos por variáveis (x̄, R) são mais sensíveis a pequenas mudanças.\n",
      "→ Gráficos por atributos (p, np) são mais simples, porém menos sensíveis.\n",
      "✔ Use ambos em paralelo: atributos como monitoramento contínuo, variáveis para análises detalhadas.\n"
     ]
    },
    {
     "data": {
      "image/png": "[encoded data removed]",
      "text/plain": [
       "plot without title"
      ]
     },
     "metadata": {
      "image/png": {
       "height": 420,
       "width": 420
      }
     },
     "output_type": "display_data"
    }
   ],
   "source": [
    "library(googlesheets4)\n",
    "library(qcc)\n",
    "\n",
    "# Se sua planilha for pública:\n",
    "gs4_deauth()\n",
    "\n",
    "# URL da planilha (substitua pelo seu link real)\n",
    "url_planilha <- \"https://docs.google.com/spreadsheets/d/1R0C885chVDklaK92j19qcCUZHnGzNtmLs7sYlQOmtd4/edit?gid=0#gid=0\"\n",
    "\n",
    "# Leitura dos dados da aba da vazão\n",
    "dados_vazao <- read_sheet(url_planilha, sheet = 2)\n",
    "\n",
    "# ===============================\n",
    "# i) Análise estatística (atributo)\n",
    "# ===============================\n",
    "\n",
    "# Parâmetros\n",
    "USL <- 1.1\n",
    "LSL <- 0.9\n",
    "tamanho_grupo <- 5\n",
    "\n",
    "# Detectar não conformes\n",
    "falhas_binarias <- ifelse(dados_vazao$`Q (L/min)` < LSL | dados_vazao$`Q (L/min)` > USL, 1, 0)\n",
    "\n",
    "# Agrupar em subgrupos de tamanho 5\n",
    "grupos <- split(falhas_binarias, ceiling(seq_along(falhas_binarias)/tamanho_grupo))\n",
    "falhas_por_grupo <- sapply(grupos, sum)\n",
    "num_grupos <- length(falhas_por_grupo)\n",
    "\n",
    "# Proporção média\n",
    "p_bar <- sum(falhas_por_grupo) / (tamanho_grupo * num_grupos)\n",
    "\n",
    "# ===============================\n",
    "# j) NMFA e NMA (distribuição binomial)\n",
    "# ===============================\n",
    "\n",
    "# Limites de controle para gráfico p\n",
    "sigma_p <- sqrt(p_bar * (1 - p_bar) / tamanho_grupo)\n",
    "LIC <- max(0, p_bar - 3 * sigma_p)\n",
    "LSC <- min(1, p_bar + 3 * sigma_p)\n",
    "\n",
    "# NMFA (erro tipo I): 1 / probabilidade de alarme sob p_bar\n",
    "alpha <- 1 - (pbinom(LSC * tamanho_grupo, tamanho_grupo, p_bar) -\n",
    "              pbinom(LIC * tamanho_grupo - 1, tamanho_grupo, p_bar))\n",
    "NMFA <- ifelse(alpha > 0, 1 / alpha, Inf)\n",
    "\n",
    "# NMA: tempo até alarme se p = 0.2 (desvio)\n",
    "p1 <- 0.2\n",
    "beta <- pbinom(LSC * tamanho_grupo, tamanho_grupo, p1) -\n",
    "        pbinom(LIC * tamanho_grupo - 1, tamanho_grupo, p1)\n",
    "NMA <- ifelse((1 - beta) > 0, 1 / (1 - beta), Inf)\n",
    "\n",
    "cat(\"Proporção média de falhas (p̄):\", round(p_bar, 4), \"\\n\")\n",
    "cat(\"LIC:\", round(LIC, 4), \" | LC:\", round(p_bar, 4), \" | LSC:\", round(LSC, 4), \"\\n\")\n",
    "cat(\"NMFA (falsos alarmes):\", round(NMFA, 2), \"\\n\")\n",
    "cat(\"NMA (tempo até alarme para p=0.2):\", round(NMA, 2), \"\\n\\n\")\n",
    "\n",
    "# ===============================\n",
    "# k) Gráficos p e np\n",
    "# ===============================\n",
    "\n",
    "# Gráfico p\n",
    "qcc_p <- qcc(falhas_por_grupo, type = \"p\", sizes = rep(tamanho_grupo, num_grupos), title = \"Gráfico de Controle - Proporção (p)\")\n",
    "\n",
    "# Gráfico np\n",
    "qcc_np <- qcc(falhas_por_grupo, type = \"np\", sizes = rep(tamanho_grupo, num_grupos), title = \"Gráfico de Controle - Número de Falhas (np)\")\n",
    "\n",
    "# ===============================\n",
    "# l) Padrões estranhos\n",
    "# ===============================\n",
    "\n",
    "summary(qcc_p)  # Avalia se há pontos fora dos limites ou tendências\n",
    "\n",
    "# ===============================\n",
    "# m) Processo estável?\n",
    "# ===============================\n",
    "\n",
    "if (all(qcc_p$violations$beyond.limits == FALSE)) {\n",
    "  cat(\"✅ Processo está sob controle estatístico.\\n\")\n",
    "} else {\n",
    "  cat(\"⚠️ Há evidências de instabilidade no processo!\\n\")\n",
    "}\n",
    "\n",
    "# ===============================\n",
    "# n) Causas especiais\n",
    "# ===============================\n",
    "\n",
    "if (length(qcc_p$violations$beyond.limits) > 0) {\n",
    "  cat(\"🔍 Pontos fora do controle detectados nos subgrupos: \",\n",
    "      paste(qcc_p$violations$beyond.limits, collapse = \", \"), \"\\n\")\n",
    "  cat(\"→ Investigue o que ocorreu nestes pontos (ex: ajustes, falhas técnicas, variação humana).\\n\")\n",
    "} else {\n",
    "  cat(\"Nenhuma causa especial evidente.\\n\")\n",
    "}\n",
    "\n",
    "# ===============================\n",
    "# o) Comparação atributos x variáveis\n",
    "# ===============================\n",
    "\n",
    "cat(\"\\n📊 Comparação:\\n\")\n",
    "cat(\"→ Gráficos por variáveis (x̄, R) são mais sensíveis a pequenas mudanças.\\n\")\n",
    "cat(\"→ Gráficos por atributos (p, np) são mais simples, porém menos sensíveis.\\n\")\n",
    "cat(\"✔ Use ambos em paralelo: atributos como monitoramento contínuo, variáveis para análises detalhadas.\\n\")\n"
   ]
  }
 ],
 "metadata": {
  "kernelspec": {
   "display_name": "R",
   "language": "R",
   "name": "ir"
  },
  "language_info": {
   "codemirror_mode": "r",
   "file_extension": ".r",
   "mimetype": "text/x-r-source",
   "name": "R",
   "pygments_lexer": "r",
   "version": "4.3.1"
  }
 },
 "nbformat": 4,
 "nbformat_minor": 5
}

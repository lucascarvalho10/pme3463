{
 "cells": [
  {
   "cell_type": "markdown",
   "id": "a4f1a917",
   "metadata": {},
   "source": [
    "## E05 - Capacidade de Processos"
   ]
  },
  {
   "cell_type": "code",
   "execution_count": 1,
   "id": "02c82640",
   "metadata": {
    "vscode": {
     "languageId": "r"
    }
   },
   "outputs": [
    {
     "name": "stderr",
     "output_type": "stream",
     "text": [
      "Warning message:\n",
      "\"package 'googlesheets4' was built under R version 4.3.3\"\n",
      "Warning message:\n",
      "\"package 'qcc' was built under R version 4.3.3\"\n",
      "Package 'qcc' version 2.7\n",
      "\n",
      "Type 'citation(\"qcc\")' for citing this R package in publications.\n",
      "\n"
     ]
    }
   ],
   "source": [
    "library(googlesheets4)\n",
    "library(qcc)"
   ]
  },
  {
   "cell_type": "code",
   "execution_count": 2,
   "id": "b2120b57",
   "metadata": {
    "vscode": {
     "languageId": "r"
    }
   },
   "outputs": [],
   "source": [
    "url_planilha <- \"https://docs.google.com/spreadsheets/d/1R0C885chVDklaK92j19qcCUZHnGzNtmLs7sYlQOmtd4/edit?gid=0#gid=0\"\n",
    "gs4_deauth()\n",
    "# respostas_formulario <- read_sheet(url_planilha)"
   ]
  },
  {
   "cell_type": "code",
   "execution_count": 3,
   "id": "be004688",
   "metadata": {
    "vscode": {
     "languageId": "r"
    }
   },
   "outputs": [
    {
     "name": "stderr",
     "output_type": "stream",
     "text": [
      "\u001b[32m✔\u001b[39m Reading from \u001b[36mControle Estatístico de Processos - Variáveis\u001b[39m.\n",
      "\n",
      "\u001b[32m✔\u001b[39m Range '\u001b[33m'vazao'\u001b[39m'.\n",
      "\n",
      "\u001b[32m✔\u001b[39m Reading from \u001b[36mControle Estatístico de Processos - Variáveis\u001b[39m.\n",
      "\n",
      "\u001b[32m✔\u001b[39m Range '\u001b[33m'nivel'\u001b[39m'.\n",
      "\n",
      "\u001b[32m✔\u001b[39m Reading from \u001b[36mControle Estatístico de Processos - Variáveis\u001b[39m.\n",
      "\n",
      "\u001b[32m✔\u001b[39m Range '\u001b[33m'tempQ'\u001b[39m'.\n",
      "\n",
      "\u001b[32m✔\u001b[39m Reading from \u001b[36mControle Estatístico de Processos - Variáveis\u001b[39m.\n",
      "\n",
      "\u001b[32m✔\u001b[39m Range '\u001b[33m'tempC'\u001b[39m'.\n",
      "\n",
      "\u001b[32m✔\u001b[39m Reading from \u001b[36mControle Estatístico de Processos - Variáveis\u001b[39m.\n",
      "\n",
      "\u001b[32m✔\u001b[39m Range '\u001b[33m'tempF'\u001b[39m'.\n",
      "\n"
     ]
    }
   ],
   "source": [
    "dados_vazao <- read_sheet(url_planilha, sheet = 2)\n",
    "dados_niveis <- read_sheet(url_planilha, sheet = 3)\n",
    "temp_quente <- read_sheet(url_planilha, sheet = 4)\n",
    "temp_c <- read_sheet(url_planilha, sheet = 5)\n",
    "temp_frio <- read_sheet(url_planilha, sheet = 6)"
   ]
  },
  {
   "cell_type": "markdown",
   "id": "7c06c0c9",
   "metadata": {},
   "source": [
    "### a) Estatísticas Básicas"
   ]
  },
  {
   "cell_type": "code",
   "execution_count": 7,
   "id": "a9390a63",
   "metadata": {
    "vscode": {
     "languageId": "r"
    }
   },
   "outputs": [
    {
     "data": {
      "text/html": [
       "4"
      ],
      "text/latex": [
       "4"
      ],
      "text/markdown": [
       "4"
      ],
      "text/plain": [
       "[1] 4"
      ]
     },
     "metadata": {},
     "output_type": "display_data"
    },
    {
     "data": {
      "text/html": [
       "1.04442056991068"
      ],
      "text/latex": [
       "1.04442056991068"
      ],
      "text/markdown": [
       "1.04442056991068"
      ],
      "text/plain": [
       "[1] 1.044421"
      ]
     },
     "metadata": {},
     "output_type": "display_data"
    },
    {
     "data": {
      "text/html": [
       "0.121264450345117"
      ],
      "text/latex": [
       "0.121264450345117"
      ],
      "text/markdown": [
       "0.121264450345117"
      ],
      "text/plain": [
       "[1] 0.1212645"
      ]
     },
     "metadata": {},
     "output_type": "display_data"
    }
   ],
   "source": [
    "Q <- dados_vazao$`Q (L/min)`  \n",
    "\n",
    "# ---- (1) Estatísticas básicas\n",
    "n <- length(Q)\n",
    "x_bar <- mean(Q)\n",
    "sigma_LT <- sd(Q)  # σLT de longo prazo\n",
    "\n",
    "n\n",
    "x_bar\n",
    "sigma_LT"
   ]
  },
  {
   "cell_type": "markdown",
   "id": "14889b73",
   "metadata": {},
   "source": [
    "### b) Especificações e Metas"
   ]
  },
  {
   "cell_type": "code",
   "execution_count": 8,
   "id": "5496f298",
   "metadata": {
    "vscode": {
     "languageId": "r"
    }
   },
   "outputs": [],
   "source": [
    "LSL <- 0.9\n",
    "USL <- 1.1\n",
    "T <- 1.0\n",
    "delta_c <- (USL - LSL) / 2"
   ]
  },
  {
   "cell_type": "markdown",
   "id": "2dc9ee85",
   "metadata": {},
   "source": [
    "### c) Desempenho"
   ]
  },
  {
   "cell_type": "code",
   "execution_count": 10,
   "id": "397c8ee4",
   "metadata": {
    "vscode": {
     "languageId": "r"
    }
   },
   "outputs": [
    {
     "data": {
      "text/html": [
       "0.274881329511388"
      ],
      "text/latex": [
       "0.274881329511388"
      ],
      "text/markdown": [
       "0.274881329511388"
      ],
      "text/plain": [
       "[1] 0.2748813"
      ]
     },
     "metadata": {},
     "output_type": "display_data"
    },
    {
     "data": {
      "text/html": [
       "0.152777476364388"
      ],
      "text/latex": [
       "0.152777476364388"
      ],
      "text/markdown": [
       "0.152777476364388"
      ],
      "text/plain": [
       "[1] 0.1527775"
      ]
     },
     "metadata": {},
     "output_type": "display_data"
    },
    {
     "data": {
      "text/html": [
       "0.396985182658388"
      ],
      "text/latex": [
       "0.396985182658388"
      ],
      "text/markdown": [
       "0.396985182658388"
      ],
      "text/plain": [
       "[1] 0.3969852"
      ]
     },
     "metadata": {},
     "output_type": "display_data"
    },
    {
     "data": {
      "text/html": [
       "0.152777476364388"
      ],
      "text/latex": [
       "0.152777476364388"
      ],
      "text/markdown": [
       "0.152777476364388"
      ],
      "text/plain": [
       "[1] 0.1527775"
      ]
     },
     "metadata": {},
     "output_type": "display_data"
    }
   ],
   "source": [
    "Pp <- (USL - LSL) / (6 * sigma_LT)\n",
    "PpkU <- (USL - x_bar) / (3 * sigma_LT)\n",
    "PpkL <- (x_bar - LSL) / (3 * sigma_LT)\n",
    "Ppk <- min(PpkU, PpkL)\n",
    "\n",
    "Pp \n",
    "PpkU \n",
    "PpkL \n",
    "Ppk "
   ]
  },
  {
   "cell_type": "markdown",
   "id": "6235e7eb",
   "metadata": {},
   "source": [
    "### d)"
   ]
  },
  {
   "cell_type": "code",
   "execution_count": 12,
   "id": "09545943",
   "metadata": {
    "vscode": {
     "languageId": "r"
    }
   },
   "outputs": [
    {
     "name": "stderr",
     "output_type": "stream",
     "text": [
      "Warning message in matrix(Q, ncol = 3, byrow = TRUE):\n",
      "\"comprimento dos dados [4] não é um submúltiplo ou múltiplo do número de colunas [3]\"\n"
     ]
    },
    {
     "data": {
      "text/html": [
       "<table class=\"dataframe\">\n",
       "<caption>A matrix: 2 × 3 of type dbl</caption>\n",
       "<tbody>\n",
       "\t<tr><td>0.9661836</td><td>1.0169492</td><td>0.9714726</td></tr>\n",
       "\t<tr><td>1.2230769</td><td>0.9661836</td><td>1.0169492</td></tr>\n",
       "</tbody>\n",
       "</table>\n"
      ],
      "text/latex": [
       "A matrix: 2 × 3 of type dbl\n",
       "\\begin{tabular}{lll}\n",
       "\t 0.9661836 & 1.0169492 & 0.9714726\\\\\n",
       "\t 1.2230769 & 0.9661836 & 1.0169492\\\\\n",
       "\\end{tabular}\n"
      ],
      "text/markdown": [
       "\n",
       "A matrix: 2 × 3 of type dbl\n",
       "\n",
       "| 0.9661836 | 1.0169492 | 0.9714726 |\n",
       "| 1.2230769 | 0.9661836 | 1.0169492 |\n",
       "\n"
      ],
      "text/plain": [
       "     [,1]      [,2]      [,3]     \n",
       "[1,] 0.9661836 1.0169492 0.9714726\n",
       "[2,] 1.2230769 0.9661836 1.0169492"
      ]
     },
     "metadata": {},
     "output_type": "display_data"
    },
    {
     "data": {
      "text/html": [
       "<style>\n",
       ".list-inline {list-style: none; margin:0; padding: 0}\n",
       ".list-inline>li {display: inline-block}\n",
       ".list-inline>li:not(:last-child)::after {content: \"\\00b7\"; padding: 0 .5ex}\n",
       "</style>\n",
       "<ol class=list-inline><li>0.0507655776631457</li><li>0.256893348197696</li></ol>\n"
      ],
      "text/latex": [
       "\\begin{enumerate*}\n",
       "\\item 0.0507655776631457\n",
       "\\item 0.256893348197696\n",
       "\\end{enumerate*}\n"
      ],
      "text/markdown": [
       "1. 0.0507655776631457\n",
       "2. 0.256893348197696\n",
       "\n",
       "\n"
      ],
      "text/plain": [
       "[1] 0.05076558 0.25689335"
      ]
     },
     "metadata": {},
     "output_type": "display_data"
    },
    {
     "data": {
      "text/html": [
       "0.153829462930421"
      ],
      "text/latex": [
       "0.153829462930421"
      ],
      "text/markdown": [
       "0.153829462930421"
      ],
      "text/plain": [
       "[1] 0.1538295"
      ]
     },
     "metadata": {},
     "output_type": "display_data"
    },
    {
     "data": {
      "text/html": [
       "1.693"
      ],
      "text/latex": [
       "1.693"
      ],
      "text/markdown": [
       "1.693"
      ],
      "text/plain": [
       "[1] 1.693"
      ]
     },
     "metadata": {},
     "output_type": "display_data"
    },
    {
     "data": {
      "text/html": [
       "0.0908620572536449"
      ],
      "text/latex": [
       "0.0908620572536449"
      ],
      "text/markdown": [
       "0.0908620572536449"
      ],
      "text/plain": [
       "[1] 0.09086206"
      ]
     },
     "metadata": {},
     "output_type": "display_data"
    }
   ],
   "source": [
    "Q_matrix <- matrix(Q, ncol = 3, byrow = TRUE)\n",
    "R_i <- apply(Q_matrix, 1, function(x) max(x) - min(x))\n",
    "R_bar <- mean(R_i)\n",
    "d2 <- 1.693  # para n = 3\n",
    "sigma_ST <- R_bar / d2\n",
    "\n",
    "Q_matrix \n",
    "R_i\n",
    "R_bar \n",
    "d2 \n",
    "sigma_ST "
   ]
  },
  {
   "cell_type": "markdown",
   "id": "4c3f4453",
   "metadata": {},
   "source": [
    "### e) em diante"
   ]
  },
  {
   "cell_type": "code",
   "execution_count": 13,
   "id": "c61d3433",
   "metadata": {
    "vscode": {
     "languageId": "r"
    }
   },
   "outputs": [],
   "source": [
    "Cp <- (USL - LSL) / (6 * sigma_ST)\n",
    "CpkU <- (USL - x_bar) / (3 * sigma_ST)\n",
    "CpkL <- (x_bar - LSL) / (3 * sigma_ST)\n",
    "Cpk <- min(CpkU, CpkL)\n",
    "\n",
    "# ---- (6) Cpmk com desvio do alvo\n",
    "Cpmk <- min((USL - T), (T - LSL)) / (3 * sqrt(sigma_ST^2 + (x_bar - T)^2))\n",
    "\n",
    "# ---- (7) Função de perda de Taguchi\n",
    "Lc <- 1.00  # custo do consumidor (R$/litro)\n",
    "Lm <- 0.05  # custo do produtor (R$/litro)\n",
    "k_c <- Lc / delta_c^2\n",
    "delta_m <- delta_c * sqrt(Lm / Lc)\n",
    "k_m <- Lm / delta_m^2\n",
    "\n",
    "# L(x) consumidor e produtor\n",
    "L_taguchi_c <- mean(k_c * (Q - T)^2)\n",
    "L_taguchi_m <- mean(k_m * (Q - T)^2)"
   ]
  },
  {
   "cell_type": "code",
   "execution_count": 14,
   "id": "8ebff862",
   "metadata": {
    "vscode": {
     "languageId": "r"
    }
   },
   "outputs": [
    {
     "name": "stdout",
     "output_type": "stream",
     "text": [
      "🔧 Estatísticas da Vazão\n",
      "Média: 1.0444  | σLT: 0.1213  | σST: 0.0909 \n",
      "\n",
      "📏 Índices de desempenho:\n",
      "Pp: 0.275 | PpkU: 0.153 | PpkL: 0.397 | Ppk: 0.153 \n",
      "\n",
      "🏭 Índices de capacidade:\n",
      "Cp: 0.367 | Cpk: 0.204 | Cpmk: 0.33 \n",
      "\n",
      "📉 Função de perda de Taguchi:\n",
      "VoC (consumidor): R$ 1.3002 \n",
      "VoP (produtor):   R$ 1.3002 \n"
     ]
    }
   ],
   "source": [
    "cat(\"🔧 Estatísticas da Vazão\\n\")\n",
    "cat(\"Média:\", round(x_bar, 4), \" | σLT:\", round(sigma_LT, 4), \" | σST:\", round(sigma_ST, 4), \"\\n\\n\")\n",
    "\n",
    "cat(\"📏 Índices de desempenho:\\n\")\n",
    "cat(\"Pp:\", round(Pp, 3), \"| PpkU:\", round(PpkU, 3), \"| PpkL:\", round(PpkL, 3), \"| Ppk:\", round(Ppk, 3), \"\\n\\n\")\n",
    "\n",
    "cat(\"🏭 Índices de capacidade:\\n\")\n",
    "cat(\"Cp:\", round(Cp, 3), \"| Cpk:\", round(Cpk, 3), \"| Cpmk:\", round(Cpmk, 3), \"\\n\\n\")\n",
    "\n",
    "cat(\"📉 Função de perda de Taguchi:\\n\")\n",
    "cat(\"VoC (consumidor): R$\", round(L_taguchi_c, 4), \"\\n\")\n",
    "cat(\"VoP (produtor):   R$\", round(L_taguchi_m, 4), \"\\n\")"
   ]
  }
 ],
 "metadata": {
  "kernelspec": {
   "display_name": "R",
   "language": "R",
   "name": "ir"
  },
  "language_info": {
   "codemirror_mode": "r",
   "file_extension": ".r",
   "mimetype": "text/x-r-source",
   "name": "R",
   "pygments_lexer": "r",
   "version": "4.3.1"
  }
 },
 "nbformat": 4,
 "nbformat_minor": 5
}

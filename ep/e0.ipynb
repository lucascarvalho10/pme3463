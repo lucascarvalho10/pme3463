{
 "cells": [
  {
   "cell_type": "markdown",
   "id": "01106d5c",
   "metadata": {},
   "source": [
    "## E04 - Controle Estatístico de Processo"
   ]
  },
  {
   "cell_type": "markdown",
   "id": "3dfe78a0",
   "metadata": {},
   "source": [
    "E04 - Análise da Planta de Tratamento de Água pelo Controle Estatístico de Processo"
   ]
  },
  {
   "cell_type": "code",
   "execution_count": null,
   "id": "c281697c",
   "metadata": {
    "vscode": {
     "languageId": "plaintext"
    }
   },
   "outputs": [],
   "source": []
  }
 ],
 "metadata": {
  "language_info": {
   "name": "python"
  }
 },
 "nbformat": 4,
 "nbformat_minor": 5
}

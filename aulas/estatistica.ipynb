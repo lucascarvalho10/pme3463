{
 "cells": [
  {
   "cell_type": "markdown",
   "metadata": {},
   "source": [
    "# PME3463 - Introdução à Qualidade\n",
    "\n",
    "Autor: Lucas Carvalho\n",
    "\n",
    "Aula 02: 25/03/2024"
   ]
  },
  {
   "cell_type": "markdown",
   "metadata": {},
   "source": [
    "### Funções Básicas "
   ]
  },
  {
   "cell_type": "markdown",
   "metadata": {},
   "source": [
    "Geração de dados aleatórios"
   ]
  },
  {
   "cell_type": "code",
   "execution_count": null,
   "metadata": {
    "vscode": {
     "languageId": "r"
    }
   },
   "outputs": [],
   "source": [
    "set.seed(42)  # Para garantir reprodutibilidade\n",
    "x <- rnorm(100, mean = 50, sd = 10)  # Média 50, Desvio padrão 10\n",
    "y <- rnorm(100, mean = 30, sd = 5)   # Média 30, Desvio padrão 5"
   ]
  },
  {
   "cell_type": "markdown",
   "metadata": {},
   "source": [
    "Apresentação dos dados"
   ]
  },
  {
   "cell_type": "code",
   "execution_count": 6,
   "metadata": {
    "vscode": {
     "languageId": "r"
    }
   },
   "outputs": [
    {
     "data": {
      "image/png": "[encoded data removed]",
      "text/plain": [
       "Plot with title \"Gráfico de Dispersão dos Dados\""
      ]
     },
     "metadata": {
      "image/png": {
       "height": 420,
       "width": 420
      }
     },
     "output_type": "display_data"
    }
   ],
   "source": [
    "par(bg = \"gray90\")  # Define o fundo do gráfico\n",
    "\n",
    "plot(x, y, \n",
    "     col = \"blue\", \n",
    "     pch = 16, \n",
    "     main = \"Gráfico de Dispersão dos Dados\", \n",
    "     xlab = \"Variável X\", \n",
    "     ylab = \"Variável Y\")"
   ]
  },
  {
   "cell_type": "markdown",
   "metadata": {},
   "source": [
    "Um resumo das estatísticas básicas"
   ]
  },
  {
   "cell_type": "code",
   "execution_count": 4,
   "metadata": {
    "vscode": {
     "languageId": "r"
    }
   },
   "outputs": [
    {
     "name": "stdout",
     "output_type": "stream",
     "text": [
      "\n",
      " Estatísticas de X :\n",
      "Média: 50.32515 \n",
      "Mediana: 50.89797 \n",
      "Desvio Padrão: 10.41357 \n",
      "Variância: 108.4424 \n",
      "Mínimo: 20.0691 \n",
      "Máximo: 72.86645 \n",
      "\n",
      " Estatísticas de Y :\n",
      "Média: 29.56258 \n",
      "Mediana: 29.65356 \n",
      "Desvio Padrão: 4.520868 \n",
      "Variância: 20.43824 \n",
      "Mínimo: 19.87661 \n",
      "Máximo: 43.50946 \n"
     ]
    }
   ],
   "source": [
    "# Calcular estatísticas básicas\n",
    "summary_stats <- function(vec, name) {\n",
    "  cat(\"\\n\", name, \":\\n\")\n",
    "  cat(\"Média:\", mean(vec), \"\\n\")\n",
    "  cat(\"Mediana:\", median(vec), \"\\n\")\n",
    "  cat(\"Desvio Padrão:\", sd(vec), \"\\n\")\n",
    "  cat(\"Variância:\", var(vec), \"\\n\")\n",
    "  cat(\"Mínimo:\", min(vec), \"\\n\")\n",
    "  cat(\"Máximo:\", max(vec), \"\\n\")\n",
    "}\n",
    "\n",
    "# Exibir estatísticas\n",
    "summary_stats(x, \"Estatísticas de X\")\n",
    "summary_stats(y, \"Estatísticas de Y\")"
   ]
  }
 ],
 "metadata": {
  "kernelspec": {
   "display_name": "R",
   "language": "R",
   "name": "ir"
  },
  "language_info": {
   "codemirror_mode": "r",
   "file_extension": ".r",
   "mimetype": "text/x-r-source",
   "name": "R",
   "pygments_lexer": "r",
   "version": "4.3.1"
  }
 },
 "nbformat": 4,
 "nbformat_minor": 2
}
